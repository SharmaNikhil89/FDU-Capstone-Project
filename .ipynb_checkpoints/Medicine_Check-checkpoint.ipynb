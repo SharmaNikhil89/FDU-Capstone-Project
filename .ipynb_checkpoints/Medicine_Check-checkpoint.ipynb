{
 "cells": [
  {
   "cell_type": "code",
   "execution_count": 1,
   "id": "fb8389fc",
   "metadata": {},
   "outputs": [],
   "source": [
    "import pandas as pd "
   ]
  },
  {
   "cell_type": "code",
   "execution_count": 2,
   "id": "a42a2183",
   "metadata": {},
   "outputs": [
    {
     "data": {
      "text/html": [
       "<div>\n",
       "<style scoped>\n",
       "    .dataframe tbody tr th:only-of-type {\n",
       "        vertical-align: middle;\n",
       "    }\n",
       "\n",
       "    .dataframe tbody tr th {\n",
       "        vertical-align: top;\n",
       "    }\n",
       "\n",
       "    .dataframe thead th {\n",
       "        text-align: right;\n",
       "    }\n",
       "</style>\n",
       "<table border=\"1\" class=\"dataframe\">\n",
       "  <thead>\n",
       "    <tr style=\"text-align: right;\">\n",
       "      <th></th>\n",
       "      <th>Medicine Name</th>\n",
       "      <th>Prescription</th>\n",
       "      <th>Type of Sell</th>\n",
       "      <th>Manufacturer</th>\n",
       "      <th>Salt</th>\n",
       "      <th>MRP</th>\n",
       "      <th>Uses</th>\n",
       "      <th>Alternate Medicines</th>\n",
       "      <th>Side Effects</th>\n",
       "      <th>How to Use</th>\n",
       "      <th>Chemical Class</th>\n",
       "      <th>Habit Forming</th>\n",
       "      <th>Therapeutic Class</th>\n",
       "      <th>Action Class</th>\n",
       "      <th>How It Works</th>\n",
       "    </tr>\n",
       "  </thead>\n",
       "  <tbody>\n",
       "    <tr>\n",
       "      <th>0</th>\n",
       "      <td>Augmentin 625 Duo Tablet</td>\n",
       "      <td>Prescription Required</td>\n",
       "      <td>10 tablets in 1 strip</td>\n",
       "      <td>Glaxo SmithKline Pharmaceuticals Ltd</td>\n",
       "      <td>Amoxycillin  (500mg) +  Clavulanic Acid (125mg),</td>\n",
       "      <td>₹201.71</td>\n",
       "      <td>Treatment of Bacterial infections,</td>\n",
       "      <td>Moxikind-CV 625 Tablet,Moxiforce-CV 625 Tablet...</td>\n",
       "      <td>Vomiting,Nausea,Diarrhea,</td>\n",
       "      <td>Take this medicine in the dose and duration as...</td>\n",
       "      <td>Not Listed</td>\n",
       "      <td>No</td>\n",
       "      <td>ANTI INFECTIVES</td>\n",
       "      <td>Not Listed</td>\n",
       "      <td>Augmentin 625 Duo Tablet is a combination of t...</td>\n",
       "    </tr>\n",
       "    <tr>\n",
       "      <th>1</th>\n",
       "      <td>Azithral 500 Tablet</td>\n",
       "      <td>Prescription Required</td>\n",
       "      <td>5 tablets in 1 strip</td>\n",
       "      <td>Alembic Pharmaceuticals Ltd</td>\n",
       "      <td>Azithromycin (500mg),</td>\n",
       "      <td>₹119.5</td>\n",
       "      <td>Treatment of Bacterial infections,</td>\n",
       "      <td>Ibithral 500mg Tablet,Azibest 500mg Tablet,Zee...</td>\n",
       "      <td>Vomiting,Nausea,Abdominal pain,Diarrhea,</td>\n",
       "      <td>Take this medicine in the dose and duration as...</td>\n",
       "      <td>Macrolides</td>\n",
       "      <td>No</td>\n",
       "      <td>ANTI INFECTIVES</td>\n",
       "      <td>Macrolides</td>\n",
       "      <td>Azithral 500 Tablet is an antibiotic. It works...</td>\n",
       "    </tr>\n",
       "    <tr>\n",
       "      <th>2</th>\n",
       "      <td>Ascoril LS Syrup</td>\n",
       "      <td>Prescription Required</td>\n",
       "      <td>100 ml in 1 bottle</td>\n",
       "      <td>Glenmark Pharmaceuticals Ltd</td>\n",
       "      <td>Ambroxol (30mg/5ml) + Levosalbutamol (1mg/5ml)...</td>\n",
       "      <td>₹108</td>\n",
       "      <td>Treatment of Cough with mucus,</td>\n",
       "      <td>Solvin LS Syrup,Ambrodil-LX Syrup,Zerotuss XP ...</td>\n",
       "      <td>Nausea,Vomiting,Diarrhea,Upset stomach,Stomach...</td>\n",
       "      <td>Take this medicine in the dose and duration as...</td>\n",
       "      <td>Not Listed</td>\n",
       "      <td>No</td>\n",
       "      <td>RESPIRATORY</td>\n",
       "      <td>Not Listed</td>\n",
       "      <td>Ascoril LS Syrup is a combination of three med...</td>\n",
       "    </tr>\n",
       "    <tr>\n",
       "      <th>3</th>\n",
       "      <td>Allegra 120mg Tablet</td>\n",
       "      <td>Prescription Required</td>\n",
       "      <td>10 tablets in 1 strip</td>\n",
       "      <td>Sanofi India  Ltd</td>\n",
       "      <td>Fexofenadine (120mg),</td>\n",
       "      <td>₹198.93</td>\n",
       "      <td>Treatment of Sneezing and runny nose due to al...</td>\n",
       "      <td>Lcfex Tablet,Intrafen 120mg Tablet,Nexofex 120...</td>\n",
       "      <td>Headache,Drowsiness,Dizziness,Nausea,</td>\n",
       "      <td>Take this medicine in the dose and duration as...</td>\n",
       "      <td>Diphenylmethane Derivative</td>\n",
       "      <td>No</td>\n",
       "      <td>RESPIRATORY</td>\n",
       "      <td>H1 Antihistaminics (second Generation)</td>\n",
       "      <td>Allegra 120mg Tablet belongs to a class of med...</td>\n",
       "    </tr>\n",
       "    <tr>\n",
       "      <th>4</th>\n",
       "      <td>Avil 25 Tablet</td>\n",
       "      <td>Prescription Required</td>\n",
       "      <td>15 tablets in 1 strip</td>\n",
       "      <td>Sanofi India  Ltd</td>\n",
       "      <td>Pheniramine (25mg),</td>\n",
       "      <td>₹9.97</td>\n",
       "      <td>Treatment of Allergic conditions,</td>\n",
       "      <td>Eralet 25mg Tablet,Apvil 25mg Tablet,</td>\n",
       "      <td>Sleepiness,Dryness in mouth,</td>\n",
       "      <td>Take this medicine in the dose and duration as...</td>\n",
       "      <td>Pyridines Derivatives</td>\n",
       "      <td>No</td>\n",
       "      <td>RESPIRATORY</td>\n",
       "      <td>H1 Antihistaminics (First Generation)</td>\n",
       "      <td>Avil 25 Tablet is an antiallergic medication. ...</td>\n",
       "    </tr>\n",
       "  </tbody>\n",
       "</table>\n",
       "</div>"
      ],
      "text/plain": [
       "              Medicine Name           Prescription           Type of Sell  \\\n",
       "0  Augmentin 625 Duo Tablet  Prescription Required  10 tablets in 1 strip   \n",
       "1       Azithral 500 Tablet  Prescription Required   5 tablets in 1 strip   \n",
       "2          Ascoril LS Syrup  Prescription Required     100 ml in 1 bottle   \n",
       "3      Allegra 120mg Tablet  Prescription Required  10 tablets in 1 strip   \n",
       "4            Avil 25 Tablet  Prescription Required  15 tablets in 1 strip   \n",
       "\n",
       "                           Manufacturer  \\\n",
       "0  Glaxo SmithKline Pharmaceuticals Ltd   \n",
       "1           Alembic Pharmaceuticals Ltd   \n",
       "2          Glenmark Pharmaceuticals Ltd   \n",
       "3                     Sanofi India  Ltd   \n",
       "4                     Sanofi India  Ltd   \n",
       "\n",
       "                                                Salt      MRP  \\\n",
       "0   Amoxycillin  (500mg) +  Clavulanic Acid (125mg),  ₹201.71   \n",
       "1                              Azithromycin (500mg),   ₹119.5   \n",
       "2  Ambroxol (30mg/5ml) + Levosalbutamol (1mg/5ml)...     ₹108   \n",
       "3                              Fexofenadine (120mg),  ₹198.93   \n",
       "4                                Pheniramine (25mg),    ₹9.97   \n",
       "\n",
       "                                                Uses  \\\n",
       "0                 Treatment of Bacterial infections,   \n",
       "1                 Treatment of Bacterial infections,   \n",
       "2                     Treatment of Cough with mucus,   \n",
       "3  Treatment of Sneezing and runny nose due to al...   \n",
       "4                  Treatment of Allergic conditions,   \n",
       "\n",
       "                                 Alternate Medicines  \\\n",
       "0  Moxikind-CV 625 Tablet,Moxiforce-CV 625 Tablet...   \n",
       "1  Ibithral 500mg Tablet,Azibest 500mg Tablet,Zee...   \n",
       "2  Solvin LS Syrup,Ambrodil-LX Syrup,Zerotuss XP ...   \n",
       "3  Lcfex Tablet,Intrafen 120mg Tablet,Nexofex 120...   \n",
       "4              Eralet 25mg Tablet,Apvil 25mg Tablet,   \n",
       "\n",
       "                                        Side Effects  \\\n",
       "0                          Vomiting,Nausea,Diarrhea,   \n",
       "1           Vomiting,Nausea,Abdominal pain,Diarrhea,   \n",
       "2  Nausea,Vomiting,Diarrhea,Upset stomach,Stomach...   \n",
       "3              Headache,Drowsiness,Dizziness,Nausea,   \n",
       "4                       Sleepiness,Dryness in mouth,   \n",
       "\n",
       "                                          How to Use  \\\n",
       "0  Take this medicine in the dose and duration as...   \n",
       "1  Take this medicine in the dose and duration as...   \n",
       "2  Take this medicine in the dose and duration as...   \n",
       "3  Take this medicine in the dose and duration as...   \n",
       "4  Take this medicine in the dose and duration as...   \n",
       "\n",
       "               Chemical Class Habit Forming Therapeutic Class  \\\n",
       "0                  Not Listed            No   ANTI INFECTIVES   \n",
       "1                  Macrolides            No   ANTI INFECTIVES   \n",
       "2                  Not Listed            No       RESPIRATORY   \n",
       "3  Diphenylmethane Derivative            No       RESPIRATORY   \n",
       "4       Pyridines Derivatives            No       RESPIRATORY   \n",
       "\n",
       "                             Action Class  \\\n",
       "0                              Not Listed   \n",
       "1                              Macrolides   \n",
       "2                              Not Listed   \n",
       "3  H1 Antihistaminics (second Generation)   \n",
       "4   H1 Antihistaminics (First Generation)   \n",
       "\n",
       "                                        How It Works  \n",
       "0  Augmentin 625 Duo Tablet is a combination of t...  \n",
       "1  Azithral 500 Tablet is an antibiotic. It works...  \n",
       "2  Ascoril LS Syrup is a combination of three med...  \n",
       "3  Allegra 120mg Tablet belongs to a class of med...  \n",
       "4  Avil 25 Tablet is an antiallergic medication. ...  "
      ]
     },
     "execution_count": 2,
     "metadata": {},
     "output_type": "execute_result"
    }
   ],
   "source": [
    "df = pd.read_excel('New_Sample.xlsx')\n",
    "df.head()"
   ]
  },
  {
   "cell_type": "code",
   "execution_count": 3,
   "id": "cfd72718",
   "metadata": {},
   "outputs": [
    {
     "name": "stdout",
     "output_type": "stream",
     "text": [
      "Alternate medicine for Avil 25 Tablet: Eralet 25mg Tablet,Apvil 25mg Tablet,\n"
     ]
    }
   ],
   "source": [
    "def find_alternate_medicine(df, medicine_name):\n",
    "    #Checking if 'Medicine Name' column is present in the DataFrame\n",
    "    if 'Medicine Name' not in df.columns:\n",
    "        print(\"Error: 'Medicine Name' column not found in the DataFrame.\")\n",
    "        return\n",
    "\n",
    "    # Checking if 'Alternate Medicines' column is present in the DataFrame\n",
    "    if 'Alternate Medicines' not in df.columns:\n",
    "        print(\"Error: 'Alternate Medicines' column not found in the DataFrame.\")\n",
    "        return\n",
    "\n",
    "    #Identifing medicine name exists in the 'Medicine Name' column\n",
    "    if medicine_name in df['Medicine Name'].values:\n",
    "        # Find the alternate medicine corresponding to the given medicine name\n",
    "        alternate = df.loc[df['Medicine Name'] == medicine_name, 'Alternate Medicines'].values[0]\n",
    "        print(f\"Alternate medicine for {medicine_name}: {alternate}\")\n",
    "    else:\n",
    "        print(f\"Medicine '{medicine_name}' not found.\")\n",
    "\n",
    "# Function Testing\n",
    "find_alternate_medicine(df, \"Avil 25 Tablet\")"
   ]
  },
  {
   "cell_type": "code",
   "execution_count": 4,
   "id": "158091f5",
   "metadata": {},
   "outputs": [
    {
     "name": "stdout",
     "output_type": "stream",
     "text": [
      "Medicine 'Avil' not found.\n"
     ]
    }
   ],
   "source": [
    "#testing names \n",
    "find_alternate_medicine(df, \"Avil\")"
   ]
  },
  {
   "cell_type": "code",
   "execution_count": 5,
   "id": "ce91198f",
   "metadata": {},
   "outputs": [],
   "source": [
    "def find_alternate_medicine(df):\n",
    "    \n",
    "    if 'Medicine Name' not in df.columns:\n",
    "        print(\"Error: 'Medicine Name' column not found in the DataFrame.\")\n",
    "        return\n",
    "\n",
    "    if 'Alternate Medicines' not in df.columns:\n",
    "        print(\"Error: 'Alternate Medicines' column not found in the DataFrame.\")\n",
    "        return\n",
    "\n",
    "    #Taking input from the user \n",
    "    medicine_name_input = input(\"Enter the name of the medicine: \")\n",
    "    matching_medicines = df[df['Medicine Name'].str.contains(medicine_name_input, case=False)]\n",
    "\n",
    "    if not matching_medicines.empty:\n",
    "        #Finding Alternate\n",
    "        for index, row in matching_medicines.iterrows():\n",
    "            print(f\"Alternate medicine for '{row['Medicine Name']}': {row['Alternate Medicines']}\")\n",
    "    else:\n",
    "        print(f\"No medicine found matching '{medicine_name_input}'.\")\n"
   ]
  },
  {
   "cell_type": "code",
   "execution_count": 6,
   "id": "f4354cbe",
   "metadata": {},
   "outputs": [
    {
     "name": "stdout",
     "output_type": "stream",
     "text": [
      "Enter the name of the medicine: Avil\n",
      "Alternate medicine for 'Avil 25 Tablet': Eralet 25mg Tablet,Apvil 25mg Tablet,\n",
      "Alternate medicine for 'Avil Injection': Nicophen 22.75mg Injection,Eurovil 22.75mg Injection,Kayphen 22.75mg Injection,\n",
      "Alternate medicine for 'Avil Injection': Nicophen 22.75mg Injection,Eurovil 22.75mg Injection,Kayphen 22.75mg Injection,\n"
     ]
    }
   ],
   "source": [
    "find_alternate_medicine(df)"
   ]
  },
  {
   "cell_type": "code",
   "execution_count": 7,
   "id": "432148d5",
   "metadata": {},
   "outputs": [],
   "source": [
    "def find_alternate_medicine(df):\n",
    "\n",
    "    if 'Medicine Name' not in df.columns:\n",
    "        print(\"Error: 'Medicine Name' column not found in the DataFrame.\")\n",
    "        return\n",
    "\n",
    "    if 'Alternate Medicines' not in df.columns:\n",
    "        print(\"Error: 'Alternate Medicines' column not found in the DataFrame.\")\n",
    "        return\n",
    "    \n",
    "    medicine_name_input = input(\"Enter the name of the medicine: \")\n",
    "\n",
    " \n",
    "    matching_medicines = df[df['Medicine Name'].str.contains(medicine_name_input, case=False)]\n",
    "\n",
    "    if not matching_medicines.empty:\n",
    "        print(\"Matching medicines:\")\n",
    "        for i, (index, row) in enumerate(matching_medicines.iterrows(), start=1):\n",
    "            print(f\"{i}. {row['Medicine Name']}\")\n",
    "            print(f\"   Alternate medicine: {row['Alternate Medicines']}\")\n",
    "    else:\n",
    "        print(f\"No medicine found matching '{medicine_name_input}'.\")"
   ]
  },
  {
   "cell_type": "code",
   "execution_count": 8,
   "id": "297c9e49",
   "metadata": {},
   "outputs": [
    {
     "name": "stdout",
     "output_type": "stream",
     "text": [
      "Enter the name of the medicine: Avil\n",
      "Matching medicines:\n",
      "1. Avil 25 Tablet\n",
      "   Alternate medicine: Eralet 25mg Tablet,Apvil 25mg Tablet,\n",
      "2. Avil Injection\n",
      "   Alternate medicine: Nicophen 22.75mg Injection,Eurovil 22.75mg Injection,Kayphen 22.75mg Injection,\n",
      "3. Avil Injection\n",
      "   Alternate medicine: Nicophen 22.75mg Injection,Eurovil 22.75mg Injection,Kayphen 22.75mg Injection,\n"
     ]
    }
   ],
   "source": [
    "find_alternate_medicine(df)"
   ]
  },
  {
   "cell_type": "code",
   "execution_count": 9,
   "id": "3132c3c7",
   "metadata": {},
   "outputs": [
    {
     "name": "stdout",
     "output_type": "stream",
     "text": [
      "Enter the name of the medicine: Avil\n",
      "Matching medicines:\n",
      "1. Avil 25 Tablet\n",
      "   Alternate medicine: Eralet 25mg Tablet,Apvil 25mg Tablet,\n",
      "2. Avil Injection\n",
      "   Alternate medicine: Nicophen 22.75mg Injection,Eurovil 22.75mg Injection,Kayphen 22.75mg Injection,\n",
      "3. Avil Injection\n",
      "   Alternate medicine: Nicophen 22.75mg Injection,Eurovil 22.75mg Injection,Kayphen 22.75mg Injection,\n"
     ]
    }
   ],
   "source": [
    "find_alternate_medicine(df)"
   ]
  },
  {
   "cell_type": "code",
   "execution_count": 10,
   "id": "5edce59f",
   "metadata": {},
   "outputs": [],
   "source": [
    "def find_alternate_medicine(df):\n",
    "    if 'Medicine Name' not in df.columns:\n",
    "        print(\"Error: 'Medicine Name' column not found in the DataFrame.\")\n",
    "        return\n",
    "\n",
    "    if 'Alternate Medicines' not in df.columns:\n",
    "        print(\"Error: 'Alternate Medicines' column not found in the DataFrame.\")\n",
    "        return\n",
    "    medicine_name_input = input(\"Enter the name of the medicine: \")\n",
    "\n",
    "\n",
    "    matching_medicines = df[df['Medicine Name'].str.contains(medicine_name_input, case=False)]\n",
    "\n",
    "    if not matching_medicines.empty:\n",
    "        # Display the matching medicines with numbers\n",
    "        print(\"Matching medicines:\")\n",
    "        for i, (index, row) in enumerate(matching_medicines.iterrows(), start=1):\n",
    "            print(f\"{i}. {row['Medicine Name']}\")\n",
    "            alternate_medicine = row['Alternate Medicines']\n",
    "            if pd.notna(alternate_medicine):\n",
    "                print(f\"   Alternate medicine: {alternate_medicine}\")\n",
    "            else:\n",
    "                print(\"   Given Medicine alternate is not available with us kindly contact the nearby Store ! \")\n",
    "    else:\n",
    "        print(f\"No medicine found matching '{medicine_name_input}'.\")"
   ]
  },
  {
   "cell_type": "code",
   "execution_count": 11,
   "id": "222bc9ee",
   "metadata": {},
   "outputs": [
    {
     "name": "stdout",
     "output_type": "stream",
     "text": [
      "Enter the name of the medicine: Avil\n",
      "Matching medicines:\n",
      "1. Avil 25 Tablet\n",
      "   Alternate medicine: Eralet 25mg Tablet,Apvil 25mg Tablet,\n",
      "2. Avil Injection\n",
      "   Alternate medicine: Nicophen 22.75mg Injection,Eurovil 22.75mg Injection,Kayphen 22.75mg Injection,\n",
      "3. Avil Injection\n",
      "   Alternate medicine: Nicophen 22.75mg Injection,Eurovil 22.75mg Injection,Kayphen 22.75mg Injection,\n"
     ]
    }
   ],
   "source": [
    "find_alternate_medicine(df)"
   ]
  },
  {
   "cell_type": "code",
   "execution_count": 12,
   "id": "151d8a25",
   "metadata": {},
   "outputs": [
    {
     "name": "stdout",
     "output_type": "stream",
     "text": [
      "Enter the name of the medicine: jupiros\n",
      "Matching medicines:\n",
      "1. Jupiros 10 Tablet\n",
      "   Alternate medicine: Cardiorostin 10mg Tablet,Lipirose 10 Tablet,Consivas 10 Tablet,Turbovas 10 Tablet,Arvast 10 Tablet,\n",
      "2. Jupiros-A Capsule\n",
      "   Alternate medicine: Rosur Asp Capsule,Jubira Plus Capsule,Arvast-A 75 Capsule,Rosycap-ASP 10/75 Capsule,Zyrova ASP 75 Capsule,\n"
     ]
    }
   ],
   "source": [
    "find_alternate_medicine(df)"
   ]
  },
  {
   "cell_type": "code",
   "execution_count": null,
   "id": "eb2c1779",
   "metadata": {},
   "outputs": [],
   "source": []
  }
 ],
 "metadata": {
  "kernelspec": {
   "display_name": "Python 3 (ipykernel)",
   "language": "python",
   "name": "python3"
  },
  "language_info": {
   "codemirror_mode": {
    "name": "ipython",
    "version": 3
   },
   "file_extension": ".py",
   "mimetype": "text/x-python",
   "name": "python",
   "nbconvert_exporter": "python",
   "pygments_lexer": "ipython3",
   "version": "3.11.5"
  }
 },
 "nbformat": 4,
 "nbformat_minor": 5
}
